{
 "metadata": {
  "language_info": {
   "codemirror_mode": {
    "name": "ipython",
    "version": 3
   },
   "file_extension": ".py",
   "mimetype": "text/x-python",
   "name": "python",
   "nbconvert_exporter": "python",
   "pygments_lexer": "ipython3",
   "version": "3.8.6-final"
  },
  "orig_nbformat": 2,
  "kernelspec": {
   "name": "python3",
   "display_name": "Python 3.8.6 64-bit",
   "metadata": {
    "interpreter": {
     "hash": "1b7fd3a18b99010515989af1f3e369c3dac34923936973d8335b61f3e1f585af"
    }
   }
  }
 },
 "nbformat": 4,
 "nbformat_minor": 2,
 "cells": [
  {
   "cell_type": "code",
   "execution_count": 10,
   "metadata": {},
   "outputs": [
    {
     "output_type": "stream",
     "name": "stdout",
     "text": [
      "Welcome To Marriage Decision Maker\n",
      "Review you anwsers\n",
      "\n",
      "Question<0>:  Ente your age\n",
      "Your Anwser:  0\n",
      "Question<1>:  Ente the age differences between you and your siginificant other\n",
      "Your Anwser:  7\n",
      "Question<2>:  What is the level of agreement on having kid in the future betweem you can your siginificant other? (1 - 10)\n",
      "Your Anwser:  345\n",
      "Question<3>:  How many kids do you have from precvious relationships? \n",
      "Your Anwser:  345\n",
      "Question<4>:  What is the total yearly income of you and your spouse? \n",
      "Your Anwser:  34\n",
      "Question<5>:  What is the total networth of you and your spouse? \n",
      "Your Anwser:  345\n",
      "Question<6>:  How many years have you been in relationship with your significant others\n",
      "Your Anwser:  345\n",
      "Question<7>:  How many previous marriages you have had? \n",
      "Your Anwser:  53423\n",
      "Question<8>:  How effective would you rate your comunication with your spouse? (1 - 10)\n",
      "Your Anwser:  2432\n",
      "Question<9>:  How satisfy are you with your shared values? (1 - 10)\n",
      "Your Anwser:  234\n",
      "Question<10>:  How many days in a year would you be living apart from each other? \n",
      "Your Anwser:  234\n",
      "Question<11>:  What is the level of your education? (1 - 10)\n",
      "Your Anwser:  234\n"
     ]
    }
   ],
   "source": [
    "import numpy as np\n",
    "def get_input(question,min_range,max_range):\n",
    "    try:\n",
    "        user_in = int(input(question))\n",
    "        if user_in > max_range:\n",
    "            return max_range,user_in\n",
    "        elif user_in < min_range:\n",
    "            return min_range,user_in\n",
    "        else:\n",
    "            return user_in,user_in\n",
    "    except:\n",
    "        print('input error')\n",
    "        # get_input(question,min_range,max_range)\n",
    "\n",
    "\n",
    "\n",
    "questions = [\n",
    "                ['Ente your age',16,50],\n",
    "                ['Ente the age differences between you and your siginificant other',0,50],\n",
    "                ['What is the level of agreement on having kid in the future betweem you can your siginificant other? (1 - 10)',0,10],\n",
    "                ['How many kids do you have from precvious relationships? ',0,10],\n",
    "                ['What is the total yearly income of you and your spouse? ',0,200000],\n",
    "                ['What is the total networth of you and your spouse? ',-800000,1400000],\n",
    "                ['How many years have you been in relationship with your significant others',0,40],\n",
    "                ['How many previous marriages you have had? ',0,10],\n",
    "                ['How effective would you rate your comunication with your spouse? (1 - 10)',0,10],\n",
    "                ['How satisfy are you with your shared values? (1 - 10)',0,10],\n",
    "                ['How many days in a year would you be living apart from each other? ',0,365],\n",
    "                ['What is the level of your education? (1 - 10)',0,10],\n",
    "                ['How would you rate your relationship with your parents? (1 - 10)',0,10]\n",
    "            ]\n",
    "\n",
    "print('Welcome To Marriage Success Rate Calculator')\n",
    "Userinputs = []\n",
    "for i in range(len(questions)-1):\n",
    "   Userinputs.append(get_input(questions[i][0],questions[i][1],questions[i][2]))\n",
    "\n",
    "Userinputs = np.array(Userinputs)\n",
    "\n",
    "print('Please Review You Anwsers')\n",
    "print()\n",
    "for i in range(len(questions)): \n",
    "    print('Question<'+str(i)+'>: ',questions[i][0],)\n",
    "    print('Your Anwser: ',Userinputs[i,1])"
   ]
  }
 ]
}