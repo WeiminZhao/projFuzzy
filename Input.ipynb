{
 "metadata": {
  "language_info": {
   "codemirror_mode": {
    "name": "ipython",
    "version": 3
   },
   "file_extension": ".py",
   "mimetype": "text/x-python",
   "name": "python",
   "nbconvert_exporter": "python",
   "pygments_lexer": "ipython3",
   "version": "3.8.6-final"
  },
  "orig_nbformat": 2,
  "kernelspec": {
   "name": "python3",
   "display_name": "Python 3.8.6 64-bit",
   "metadata": {
    "interpreter": {
     "hash": "1b7fd3a18b99010515989af1f3e369c3dac34923936973d8335b61f3e1f585af"
    }
   }
  }
 },
 "nbformat": 4,
 "nbformat_minor": 2,
 "cells": [
  {
   "cell_type": "code",
   "execution_count": 1,
   "metadata": {},
   "outputs": [
    {
     "output_type": "stream",
     "name": "stdout",
     "text": [
      "Welcome To Marriage Decision Maker\n",
      "Please Enter Integers Only! \n",
      "Please Enter Integers Only! \n"
     ]
    }
   ],
   "source": [
    "def get_user_inputs():\n",
    "    Userinputs = []\n",
    "    try:\n",
    "        Userinputs.append(int(input('Ente your age')))\n",
    "\n",
    "        Userinputs.append(int(input('Ente the age differences between you and your siginificant other')))\n",
    "\n",
    "        Userinputs.append(int(input('What is the level of agreement on having kid in the future betweem you can your siginificant other? (1 - 10)')))\n",
    "\n",
    "        Userinputs.append(int(input(\"How many kids do you have from precvious relationships? \")))\n",
    "\n",
    "        Userinputs.append(int(input('What is the total yearly income of you and your spouse? ')))\n",
    "\n",
    "        Userinputs.append(int(input('What is the total networth of you and your spouse? ')))\n",
    "\n",
    "        Userinputs.append(int(input('How many years have you been in relationship with your significant others' )))\n",
    "\n",
    "        Userinputs.append(int(input('How many previous marriages you have had? ')))\n",
    "\n",
    "        Userinputs.append(int(input('How effective would you rate your comunication with your spouse? (1 - 10)')))\n",
    "\n",
    "        Userinputs.append(int(input('How satisfy are you with your shared values? (1 - 10)')))\n",
    "\n",
    "        Userinputs.append(int(input('How many days in a year would you be living apart from each other? (1 - 10)')))\n",
    "\n",
    "        Userinputs.append(int(input('What is the level of your education? (1 - 10)')))\n",
    "\n",
    "        Userinputs.append(int(input('How would you rate your relationship with your parents? (1 - 10)')))\n",
    "    except:\n",
    "        print('Please Enter Integers Only! ')\n",
    "        get_user_inputs()\n",
    "print('Welcome To Marriage Decision Maker')\n",
    "get_user_inputs()"
   ]
  }
 ]
}